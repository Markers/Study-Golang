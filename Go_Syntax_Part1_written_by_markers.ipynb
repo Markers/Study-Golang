{
 "cells": [
  {
   "cell_type": "markdown",
   "metadata": {},
   "source": [
    "Go-Lang Syntax\n",
    "=============\n",
    "\n",
    "### 발표자 이동환\n",
    "\n",
    "\n",
    "* ## Go program 필수 사항\n",
    "\n",
    "    go 프로그램을 작성할때 반드시 패키지 선언(package declaration)으로 시작해야된다고 함.\n"
   ]
  },
  {
   "cell_type": "code",
   "execution_count": null,
   "metadata": {
    "collapsed": true
   },
   "outputs": [],
   "source": [
    "package main\n",
    "\n",
    "import \"fmt\"\n",
    "\n",
    "func main(){\n",
    "    fmt.Println(\"Hello World\")\n",
    "}"
   ]
  },
  {
   "cell_type": "markdown",
   "metadata": {},
   "source": [
    "### golang에서 사용되는 Keyword\n",
    "\n",
    "break, default, func, interface, slelect, case, defer, go, map, struct, chan, else, goto, package, switch, const, fallthrough, if, range, type, continue, for, import, return, var"
   ]
  },
  {
   "cell_type": "markdown",
   "metadata": {},
   "source": [
    "## 연습문제\n",
    "\n",
    "\n",
    "1. 공백이란 무엇인가?\n",
    "> ==> 줄바꿈, 빈 칸, 탭으로 공백 표현\n",
    "\n",
    "2. 주석이란 무엇인가? 주석을 작성하는 두 가지 방법은?\n",
    "> ==> //로 시작하는 줄은 주석처리.\n",
    "> ==> //와 /* comment */ 두가지 방법으로 처리.\n",
    "\n",
    "3. 앞에서 작성한 프로그램은 package main으로 시작한다. fmt 패키지 안에 포함된 파일은 무엇으로 시작하겠는가?\n",
    "> ==> package fmt\n",
    "\n",
    "4. 앞에서는 fmt 패키지에 정의된 Println 함수를 사용했다. os 패키지에 포함된 Exit 함수를 사용하고 싶다면 어떻게 해야 하는가?\n",
    "\n",
    "> ==> package os\n",
    "> os.Exit()\n"
   ]
  },
  {
   "cell_type": "markdown",
   "metadata": {},
   "source": [
    "타입\n",
    "=============\n",
    "### 1. 숫자 ###\n",
    "\n",
    "#### - 정수 ####\n",
    "           \n",
    "    uint8(byte)     ==> 0 to 255 \n",
    "    uint16          ==> 0 to 65535\n",
    "    uint32(rune)    ==> 0 to 4294967295\n",
    "    uint64          ==> 0 to 18446744073709551615\n",
    "    int8            ==> -128 to 127\n",
    "    int16           ==> -32768 to 32767\n",
    "    int32           ==> -2147483648 to 2147483647\n",
    "    int64           ==> -9223372036854775808\n",
    "                        to  9223372036854775807\n",
    "\n",
    "    장비에 의존적인 정수 타입 : uint, int uintptr\n",
    "\n",
    "#### - 부동 소수점 수 ####\n",
    "\n",
    "    float32         ==> 32-bit floating-point numbers\n",
    "    float64         ==> 64-bit floating-point numbers\n",
    "\n",
    "    complex64       ==> float32 real and imaginary parts\n",
    "    complex128      ==> float64 real and imaginary parts\n",
    "        \n",
    "\n",
    "### 2. 문자열 ###\n",
    "\n",
    "    \"\"으로 표현하거나 ``(역따음표)으로 표현\n",
    "    \n",
    "    \"\"으로 표현하게 되면 줄바꿈을 포함할 수 없고, 특별한 이스케이프 문자열 사용 가능(예: \\n or \\t)\n",
    "    \n",
    "    fmt.Println(\"Hello World\"[1])  ===> 출력결과 101 // 이유는 문자가 바이트로 표현되기 때문(e는 아스키코드로 101).\n",
    "    \n"
   ]
  },
  {
   "cell_type": "code",
   "execution_count": 3,
   "metadata": {
    "collapsed": false
   },
   "outputs": [
    {
     "data": {
      "text/plain": [
       "101\n",
       "4\n",
       "<nil>\n"
      ]
     },
     "execution_count": 3,
     "metadata": {},
     "output_type": "execute_result"
    }
   ],
   "source": [
    "fmt.Println(\"Hello World\"[1])\n"
   ]
  },
  {
   "cell_type": "markdown",
   "metadata": {},
   "source": [
    "### 3. 불린 ###\n",
    "\n",
    "|표현|의미|\n",
    "|:---:|:---:|\n",
    "|&& |and|\n",
    "| &#124;&#124; | or|\n",
    "| ! |not|\n",
    "\n"
   ]
  },
  {
   "cell_type": "markdown",
   "metadata": {},
   "source": [
    "연습문제\n",
    "============\n",
    "\n",
    "1. 정수는 컴퓨터에 어떻게 저장되는가?\n",
    "> ==> 2진수로 저장.\n",
    "\n",
    "2. 우리는 (십진수 체계에서) 가장 큰 한 자리 숫자는 9이고, 가장 큰 두 자리 숫자는 99라는 사실을 알고 있다. 이진수에서 가장 큰 두 자리 숫자는 11(3)이고, 가장 큰 세 자리 숫자는 111(7)이며, 가장 큰 네 자리 숫자는 1111(15)라는 사실을 고려했을 때 가장 큰 8자리 숫자는 무엇인가? (힌트: 10¹-1 = 9이고 10²-1 = 99다)\n",
    "> ==> 11111111(2) ==> 2^9-1 ==> 511\n",
    "\n",
    "3. 작업에 비해 조금 과도한 감이 있긴 하지만 Go를 계산기로도 쓸 수 있다. 321325 × 424521를 계산해서 그 결과를 터미널에 출력하는 프로그램을 작성하라. (곱셈을 위해 * 연산자를 사용한다)\n",
    "> ==> \n",
    "\n",
    "\n",
    "\n",
    "4. 문자열이란 무엇인가? 문자열의 길이를 구하는 방법은 무엇인가?\n",
    "> ==> \"\"또는 ``으로 표현된 것. len(\"hello world~?\")\n",
    "\n",
    "5. 다음 수식의 값은 무엇인가? (true && false) || (false && true) || !(false && false)\n",
    "> ==> false || false || true ==> true\n",
    "\n"
   ]
  },
  {
   "cell_type": "markdown",
   "metadata": {},
   "source": [
    "변수\n",
    "=============\n",
    "\n",
    "#### 기본적인 변수 정의 \n",
    "> **var** name string\n",
    "\n",
    "변수는 **var** 키워드를 이용하여 만들어지고 그 다음으로 변수의 이름(name) 그리고 타입(string)으로 이루어져 있다.\n",
    "\n",
    "#### 축약 형태 \n",
    "> helloworld := \"Hello world!\"\n",
    "\n",
    ":= 형태로 축약이 가능하며, Go 컴파일러가 변수에 할당하는 값을 토대로 타입을 추론하기 때문에 타입 선언이 필요하지 않다. \n",
    "\n",
    "\n",
    "## 유효 범위\n",
    "go는 C언어와 동일하게 유효범위(Scope)를 갖기 때문에 블록에 포함된 범위까지만 유효하다.\n",
    "\n",
    "\n",
    "## 상수\n",
    "go는 상수(constant)를 지원한다. 상수는 변수와 같은 방식으로 만들어지지만, **var**키워드 대신에 **const** 키워드를 사용한다.\n",
    "\n",
    "\n",
    "## 여러개의 변수 정의"
   ]
  },
  {
   "cell_type": "code",
   "execution_count": 1,
   "metadata": {
    "collapsed": false
   },
   "outputs": [
    {
     "data": {
      "text/plain": [
       "80 100 120\n"
      ]
     },
     "execution_count": 1,
     "metadata": {},
     "output_type": "execute_result"
    }
   ],
   "source": [
    "a, b, c := 80, 100, 120\n",
    "\n",
    "fmt.Println(a,b,c)"
   ]
  },
  {
   "cell_type": "code",
   "execution_count": 1,
   "metadata": {
    "collapsed": false
   },
   "outputs": [
    {
     "data": {
      "text/plain": [
       "HelloWorld!\n"
      ]
     },
     "execution_count": 1,
     "metadata": {},
     "output_type": "execute_result"
    }
   ],
   "source": [
    "var d, e, f string\n",
    "d = \"Hello\"\n",
    "e = \"World\"\n",
    "f = \"!\"\n",
    "fmt.Println(d+e+f)"
   ]
  },
  {
   "cell_type": "code",
   "execution_count": 1,
   "metadata": {
    "collapsed": false
   },
   "outputs": [
    {
     "data": {
      "text/plain": [
       "10 12 0\n"
      ]
     },
     "execution_count": 1,
     "metadata": {},
     "output_type": "execute_result"
    }
   ],
   "source": [
    "var (   \n",
    "    g=10\n",
    "    h=12\n",
    "    i=0\n",
    ")\n",
    "fmt.Println(g, h, i)"
   ]
  },
  {
   "cell_type": "markdown",
   "metadata": {},
   "source": [
    "연습문제\n",
    "============\n",
    "\n",
    "1. 새로운 변수를 생성하는 두 가지 방법은 무엇인가?\n",
    "> ==> var name variableType \n",
    ">     name := value\n",
    "\n",
    "\n",
    "2. 다음 코드를 실행한 후 x의 값은 무엇인가? x := 5; x += 1\n",
    "> ==> 6\n",
    "\n",
    "3. 유효범위란 무엇이고 Go에서는 변수의 유효범위를 어떻게 결정하는가?\n",
    "> ==> 변수를 사용 할 수 있는 공간 // 블록으로 결정\n",
    "\n",
    "4. var와 const의 차이점은 무엇인가?\n",
    "> ==> var는 일반적인 변수 정의 할 때 사용 // const는 상수 정의 할 때 사용\n",
    "\n",
    "5. 예제 프로그램을 출발점으로 삼아 화씨를 섭씨로 변환하는 프로그램을 작성하라. (C = (F - 32) * 5/9))\n",
    "> ==> \n",
    "\n",
    "6. 피트를 미터로 변환하는 프로그램을 하나 더 작성하라. (1 ft = 0.3048 m)\n",
    "> ==> "
   ]
  },
  {
   "cell_type": "markdown",
   "metadata": {},
   "source": [
    "제어 구조\n",
    "===============\n",
    "\n",
    "## for 문 표현 \n",
    "\n",
    "### **\"for\"** [ condition | ForClause | RangeClause ] Block\n",
    "\n",
    "#### condition = expression"
   ]
  },
  {
   "cell_type": "code",
   "execution_count": 1,
   "metadata": {
    "collapsed": false
   },
   "outputs": [
    {
     "data": {
      "text/plain": [
       "16\n",
       "32\n"
      ]
     },
     "execution_count": 1,
     "metadata": {},
     "output_type": "execute_result"
    }
   ],
   "source": [
    "a := 8\n",
    "b := 20\n",
    "\n",
    "for a < b {\n",
    "    a *= 2\n",
    "    fmt.Println(a)\n",
    "}"
   ]
  },
  {
   "cell_type": "markdown",
   "metadata": {},
   "source": [
    "### 무한 루프 표현\n",
    "\n",
    "for {\n",
    "\n",
    "    expression\n",
    "    \n",
    "}\n"
   ]
  },
  {
   "cell_type": "markdown",
   "metadata": {},
   "source": [
    "#### ForClause = [ IinitStmt ] \";\" [ Codition ] \";\" [ PostStmt ]"
   ]
  },
  {
   "cell_type": "code",
   "execution_count": 1,
   "metadata": {
    "collapsed": false
   },
   "outputs": [
    {
     "data": {
      "text/plain": [
       "0\n",
       "1\n",
       "2\n",
       "3\n",
       "4\n",
       "5\n",
       "6\n",
       "7\n",
       "8\n",
       "9\n"
      ]
     },
     "execution_count": 1,
     "metadata": {},
     "output_type": "execute_result"
    }
   ],
   "source": [
    "for i := 0; i < 10; i++ {\n",
    "    fmt.Println(i)\n",
    "}"
   ]
  },
  {
   "cell_type": "markdown",
   "metadata": {},
   "source": [
    "#### RangeClause = [ ExpressionList \"=\" | IndentifierList \":=\" ] \"range\" expression"
   ]
  },
  {
   "cell_type": "code",
   "execution_count": 2,
   "metadata": {
    "collapsed": false
   },
   "outputs": [
    {
     "data": {
      "text/plain": [
       "0 홍길동\n",
       "1 이순신\n",
       "2 강감찬\n"
      ]
     },
     "execution_count": 2,
     "metadata": {},
     "output_type": "execute_result"
    }
   ],
   "source": [
    "names := []string{\"홍길동\", \"이순신\", \"강감찬\"}\n",
    " \n",
    "for index, name := range names {\n",
    "    fmt.Println(index, name)\n",
    "}"
   ]
  },
  {
   "cell_type": "markdown",
   "metadata": {},
   "source": [
    "if\n",
    "================"
   ]
  },
  {
   "cell_type": "code",
   "execution_count": null,
   "metadata": {
    "collapsed": true
   },
   "outputs": [],
   "source": [
    "func iftest() int {\n",
    "    return 100;\n",
    "}\n",
    "\n",
    "y := 120\n",
    "z := 70\n",
    "if x := iftest(); x < y {\n",
    "    fmt.Println(x)\n",
    "} else if x > z {\n",
    "    fmt.Println(z)\n",
    "} else {\n",
    "    fmt.Println(x)\n",
    "}"
   ]
  },
  {
   "cell_type": "code",
   "execution_count": 1,
   "metadata": {
    "collapsed": false
   },
   "outputs": [
    {
     "data": {
      "text/plain": [
       "100\n"
      ]
     },
     "execution_count": 1,
     "metadata": {},
     "output_type": "execute_result"
    }
   ],
   "source": [
    "x := 100\n",
    "max := 0\n",
    "\n",
    "if x > max {\n",
    "    fmt.Println(x)\n",
    "}"
   ]
  },
  {
   "cell_type": "markdown",
   "metadata": {},
   "source": [
    "swich\n",
    "========="
   ]
  },
  {
   "cell_type": "code",
   "execution_count": 1,
   "metadata": {
    "collapsed": false
   },
   "outputs": [
    {
     "data": {
      "text/plain": [
       "알 수 없는 숫자\n"
      ]
     },
     "execution_count": 1,
     "metadata": {},
     "output_type": "execute_result"
    }
   ],
   "source": [
    "swichCodition := 7\n",
    "switch swichCodition {\n",
    "case 0: fmt.Println(\"영\")\n",
    "case 1: fmt.Println(\"일\")\n",
    "case 2: fmt.Println(\"이\")\n",
    "case 3: fmt.Println(\"삼\")\n",
    "case 4: fmt.Println(\"사\")\n",
    "case 5: fmt.Println(\"오\")\n",
    "default: fmt.Println(\"알 수 없는 숫자\")\n",
    "}"
   ]
  },
  {
   "cell_type": "markdown",
   "metadata": {},
   "source": [
    "배열, 슬라이스, 맵\n",
    "===========\n",
    "\n",
    "\n",
    "## 배열\n",
    "우리가 C에서 배운 배열과 동일하다. 길이가 고정되고, 인덱스로 접근 가능한 같은 타입의 원소의 나열체."
   ]
  },
  {
   "cell_type": "code",
   "execution_count": 1,
   "metadata": {
    "collapsed": false
   },
   "outputs": [
    {
     "data": {
      "text/plain": [
       "1004\n",
       "[0 1004 0 0 0 0 0 0 0 0]\n",
       "[2 3 5 7 11 13]\n",
       "[98 93 77 82 83]\n"
      ]
     },
     "execution_count": 1,
     "metadata": {},
     "output_type": "execute_result"
    }
   ],
   "source": [
    "var array [10]int // declare\n",
    "\n",
    "\n",
    "array[1] = 1004\n",
    "primes := [6]int{2,3,5,7,11,13}  // assign \n",
    "\n",
    "x := [5]float64{\n",
    "    98,\n",
    "    93,\n",
    "    77,\n",
    "    82,\n",
    "    83,\n",
    "} \n",
    "\n",
    "fmt.Println(array[1])\n",
    "fmt.Println(array)\n",
    "fmt.Println(primes)\n",
    "fmt.Println(x)"
   ]
  },
  {
   "cell_type": "markdown",
   "metadata": {},
   "source": [
    "## 슬라이스\n",
    "\n",
    "슬라이스(slice)는 배열의 일부다. 배열과 다른 점은 길이를 바꿀 수 있다는 점.\n",
    "C++의 vector 컨테이너와 유사하다고 생각된다.\n"
   ]
  },
  {
   "cell_type": "code",
   "execution_count": 1,
   "metadata": {
    "collapsed": false
   },
   "outputs": [
    {
     "data": {
      "text/plain": [
       "x :  [0 0 0 0 0]\n",
       "x length :  5\n",
       "new_x :  [0 0 0 0 0]\n",
       "new_x length :  5\n",
       "slice_arr1 :  [1 2 3]\n",
       "slice_arr2 :  [1 2 3 4 5]\n",
       "slice_arr3 :  [1 2 3 4 5]\n",
       "slice_arr4 :  [1 2 3 10 11]\n",
       "slice_arr5 :  [1 2]\n"
      ]
     },
     "execution_count": 1,
     "metadata": {},
     "output_type": "execute_result"
    }
   ],
   "source": [
    "var x []float64  //declare\n",
    "x := make([]float64, 5) //declare\n",
    "x := make([]float64, 5, 10) //declare\n",
    "// make([]T, length, capacity)\n",
    "\n",
    "new_x := new([10]float64)[0:5]  //same\n",
    "\n",
    "fmt.Println(\"x : \", x)\n",
    "fmt.Println(\"x length : \", len(x))\n",
    "fmt.Println(\"new_x : \", new_x)\n",
    "fmt.Println(\"new_x length : \", len(new_x))\n",
    "\n",
    "\n",
    "arr := []float64{1,2,3,4,5}\n",
    "slice_arr1 := arr[0:3]\n",
    "slice_arr2 := arr[0:]\n",
    "slice_arr3 := arr[:5]\n",
    "\n",
    "fmt.Println(\"slice_arr1 : \", slice_arr1)\n",
    "fmt.Println(\"slice_arr2 : \", slice_arr2)\n",
    "fmt.Println(\"slice_arr3 : \", slice_arr3)\n",
    "\n",
    "// built-in function\n",
    "// append(slice []Type, elems ...Type) []Type\n",
    "// copy(dst, src []Type) int\n",
    "// Copy returns the number of elements copied\n",
    "\n",
    "slice_arr4 := append(slice_arr1, 10, 11)\n",
    "slice_arr5 := make([]float64, 2)\n",
    "copy(slice_arr5, slice_arr4)\n",
    "\n",
    "fmt.Println(\"slice_arr4 : \", slice_arr4)\n",
    "fmt.Println(\"slice_arr5 : \", slice_arr5)\n"
   ]
  },
  {
   "cell_type": "markdown",
   "metadata": {},
   "source": [
    "맵\n",
    "=============\n",
    "\n",
    "맵은 순서가 없는 키-값(key-value) 집합. python의 dictionary 라고 생각됨."
   ]
  },
  {
   "cell_type": "code",
   "execution_count": 1,
   "metadata": {
    "collapsed": false
   },
   "outputs": [
    {
     "data": {
      "text/plain": [
       "x의 age는 :  30\n",
       "0 false\n",
       "eleement : N , Nitrogen\n",
       "eleement : O , Oxygen\n",
       "eleement : F , Fluorine\n",
       "eleement : C , Carbon\n",
       "eleement : He , Helium\n",
       "eleement : Li , Lithium\n",
       "eleement : Be , Beryllium\n",
       "eleement : B , Boron\n",
       "eleement : Ne , Neon\n",
       "eleement : H , Hydrogen\n"
      ]
     },
     "execution_count": 1,
     "metadata": {},
     "output_type": "execute_result"
    }
   ],
   "source": [
    "var x map[string]int  //declare  key:string , value:int\n",
    "\n",
    "x := make(map[string]int) //initialize\n",
    "x[\"age\"] = 30\n",
    "\n",
    "fmt.Println(\"x의 age는 : \", x[\"age\"])\n",
    "\n",
    "value, ok := x[\"name\"]    // 첫 반환값: 탐색결과 , 두번째 반환값: 탐색 성공여부\n",
    "fmt.Println(value, ok)\n",
    "\n",
    "\n",
    "elements := map[string]string{\n",
    "    \"H\": \"Hydrogen\",\n",
    "    \"He\": \"Helium\",\n",
    "    \"Li\": \"Lithium\",\n",
    "    \"Be\": \"Beryllium\",\n",
    "    \"B\": \"Boron\",\n",
    "    \"C\": \"Carbon\",\n",
    "    \"N\": \"Nitrogen\",\n",
    "    \"O\": \"Oxygen\",\n",
    "    \"F\": \"Fluorine\",\n",
    "    \"Ne\": \"Neon\",\n",
    "}\n",
    "\n",
    "for key, value := range elements {\n",
    "    fmt.Println(\"eleement : \" + key + \" , \" + value)\n",
    "}\n"
   ]
  },
  {
   "cell_type": "code",
   "execution_count": 1,
   "metadata": {
    "collapsed": false
   },
   "outputs": [
    {
     "data": {
      "text/plain": [
       "Lithium solid\n"
      ]
     },
     "execution_count": 1,
     "metadata": {},
     "output_type": "execute_result"
    }
   ],
   "source": [
    "new_elements := map[string]map[string]string{\n",
    "          \"H\": map[string]string{\n",
    "                \"name\":\"Hydrogen\",\n",
    "                \"state\":\"gas\",\n",
    "          },\n",
    "          \"He\": map[string]string{\n",
    "                \"name\":\"Helium\",\n",
    "                \"state\":\"gas\",\n",
    "          },\n",
    "          \"Li\": map[string]string{\n",
    "                \"name\":\"Lithium\",\n",
    "                \"state\":\"solid\",\n",
    "          },\n",
    "          \"Be\": map[string]string{\n",
    "                \"name\":\"Beryllium\",\n",
    "                \"state\":\"solid\",\n",
    "          },\n",
    "          \"B\":  map[string]string{\n",
    "                \"name\":\"Boron\",\n",
    "                \"state\":\"solid\",\n",
    "          },\n",
    "          \"C\":  map[string]string{\n",
    "                \"name\":\"Carbon\",\n",
    "                \"state\":\"solid\",\n",
    "          },\n",
    "          \"N\":  map[string]string{\n",
    "                \"name\":\"Nitrogen\",\n",
    "                \"state\":\"gas\",\n",
    "          },\n",
    "          \"O\":  map[string]string{\n",
    "                \"name\":\"Oxygen\",\n",
    "                \"state\":\"gas\",\n",
    "          },\n",
    "          \"F\":  map[string]string{\n",
    "                \"name\":\"Fluorine\",\n",
    "                \"state\":\"gas\",\n",
    "          },\n",
    "          \"Ne\":  map[string]string{\n",
    "                \"name\":\"Neon\",\n",
    "                \"state\":\"gas\",\n",
    "          },\n",
    "    }\n",
    " \n",
    "    if el, ok := new_elements[\"Li\"]; ok {\n",
    "           fmt.Println(el[\"name\"], el[\"state\"])\n",
    "    }"
   ]
  },
  {
   "cell_type": "code",
   "execution_count": null,
   "metadata": {
    "collapsed": true
   },
   "outputs": [],
   "source": []
  }
 ],
 "metadata": {
  "anaconda-cloud": {},
  "kernelspec": {
   "display_name": "Golang",
   "language": "go",
   "name": "gophernotes"
  },
  "language_info": {
   "name": "go"
  }
 },
 "nbformat": 4,
 "nbformat_minor": 0
}
